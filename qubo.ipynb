{
 "cells": [
  {
   "cell_type": "code",
   "execution_count": null,
   "id": "f6a4bba9",
   "metadata": {},
   "outputs": [],
   "source": [
    "# for cloud version\n",
    "!pip install pandas matplotlib dwave-ocean-sdk"
   ]
  },
  {
   "cell_type": "code",
   "execution_count": 33,
   "id": "e984c0a6",
   "metadata": {},
   "outputs": [],
   "source": [
    "from typing import Optional\n",
    "from time import ctime\n",
    "\n",
    "import matplotlib.pyplot as plt\n",
    "import pandas as pd\n",
    "\n",
    "import dimod\n",
    "from dwave.samplers import TabuSampler\n",
    "\n",
    "from utils import Mapping, get_attacks_for_each_cell, get_pos_mapping"
   ]
  },
  {
   "cell_type": "code",
   "execution_count": 8,
   "id": "dc9505f0",
   "metadata": {},
   "outputs": [],
   "source": [
    "def get_qubo(mapping:Mapping, n:int) -> dimod.BinaryQuadraticModel:\n",
    "    \"\"\"\n",
    "    params:\n",
    "        mapping : Mapping - the mapping of board positions to numeric variables\n",
    "        n : int - the board side\n",
    "\n",
    "    Map the NQueens problem into qubo.\n",
    "    \"\"\"\n",
    "\n",
    "    model = dimod.BinaryQuadraticModel(vartype='BINARY')\n",
    "\n",
    "    for i in range(n):\n",
    "        for j in range(n):\n",
    "\n",
    "            \"\"\"\n",
    "            For each cell, we gonna get all possible attacks and then add\n",
    "            the variables relations based on the attacks.\n",
    "            \"\"\"\n",
    "\n",
    "            pos = (i,j)\n",
    "            current_pos_map = mapping[pos]\n",
    "            attacks = get_attacks_for_each_cell(pos, n)\n",
    "\n",
    "            for attack in attacks:\n",
    "                \n",
    "                \"\"\"\n",
    "                The quadratic terms are just the current cell multipled by\n",
    "                the attack cell. At the end, everyone of these must result to zero.\n",
    "                \"\"\"\n",
    "\n",
    "                mapped_pos = mapping[attack]\n",
    "                model.add_quadratic(f'x{mapped_pos}', f'x{current_pos_map}', 1)\n",
    "\n",
    "    # As constraint, we must ensure that only N queens are placed in the board.\n",
    "    constraint_total_vars = [(f'x{i}',1) for i in mapping.values()]\n",
    "    model.add_linear_equality_constraint(constraint_total_vars, n*n, -n)\n",
    "\n",
    "    return model\n",
    "\n",
    "             "
   ]
  },
  {
   "cell_type": "code",
   "execution_count": 6,
   "id": "bcb64e3a",
   "metadata": {},
   "outputs": [],
   "source": [
    "N = 4\n",
    "mapping = get_pos_mapping(N)"
   ]
  },
  {
   "cell_type": "code",
   "execution_count": 9,
   "id": "88c0578d",
   "metadata": {},
   "outputs": [],
   "source": [
    "qubo = get_qubo(mapping, N)"
   ]
  },
  {
   "cell_type": "code",
   "execution_count": 11,
   "id": "eea1976a",
   "metadata": {},
   "outputs": [],
   "source": [
    "def get_result_min_energy(data:pd.DataFrame) -> pd.DataFrame:\n",
    "    \"\"\"\n",
    "    params:\n",
    "        data : pd.DataFrame - the sampleset as DataFrame\n",
    "\n",
    "    Get the sample result and filter to get only the minimun energy\n",
    "    of the system (the solution).\n",
    "    \"\"\"\n",
    "    return data[data['energy'] == data['energy'].min()]"
   ]
  },
  {
   "cell_type": "code",
   "execution_count": 19,
   "id": "9b0a6cd8",
   "metadata": {},
   "outputs": [],
   "source": [
    "def plot_solution(mapping:Mapping, row:pd.Series, title:Optional[str]=None):\n",
    "    \"\"\"\n",
    "    params:\n",
    "        mapping : Mapping - the board mapping to binary variables\n",
    "        row : pd.Series - the solution row from the pandas Dataframe\n",
    "        title : Optional[str] - the title of the plot (default is None) \n",
    "\n",
    "    Plot the matrix representation of the solution found.\n",
    "    \"\"\"\n",
    "\n",
    "    matrix = [[0]*N for i in range(N)]\n",
    "\n",
    "    for i in range(N):\n",
    "        for j in range(N):\n",
    "            mapped_pos = mapping[(i,j)]\n",
    "            matrix[i][j] = row[f'x{mapped_pos}']\n",
    "\n",
    "    plt.pcolormesh(matrix,edgecolors=\"k\",linewidth=2)\n",
    "    plt.axis('off')\n",
    "\n",
    "    if(title):\n",
    "        plt.title(title)\n",
    "\n",
    "    plt.savefig(\"%s.png\"%(title if title else ctime()), bbox_inches=\"tight\")\n",
    "\n",
    "    plt.show()"
   ]
  },
  {
   "cell_type": "markdown",
   "id": "6aa33b24",
   "metadata": {},
   "source": [
    "# Exact solver"
   ]
  },
  {
   "cell_type": "code",
   "execution_count": 37,
   "id": "6032f1ba",
   "metadata": {},
   "outputs": [],
   "source": [
    "sampler = dimod.ExactSolver()\n",
    "sampleset = sampler.sample(qubo)"
   ]
  },
  {
   "cell_type": "code",
   "execution_count": 38,
   "id": "9abd7927",
   "metadata": {},
   "outputs": [
    {
     "data": {
      "text/html": [
       "<div>\n",
       "<style scoped>\n",
       "    .dataframe tbody tr th:only-of-type {\n",
       "        vertical-align: middle;\n",
       "    }\n",
       "\n",
       "    .dataframe tbody tr th {\n",
       "        vertical-align: top;\n",
       "    }\n",
       "\n",
       "    .dataframe thead th {\n",
       "        text-align: right;\n",
       "    }\n",
       "</style>\n",
       "<table border=\"1\" class=\"dataframe\">\n",
       "  <thead>\n",
       "    <tr style=\"text-align: right;\">\n",
       "      <th></th>\n",
       "      <th>x0</th>\n",
       "      <th>x1</th>\n",
       "      <th>x10</th>\n",
       "      <th>x11</th>\n",
       "      <th>x12</th>\n",
       "      <th>x13</th>\n",
       "      <th>x14</th>\n",
       "      <th>x15</th>\n",
       "      <th>x2</th>\n",
       "      <th>x3</th>\n",
       "      <th>x4</th>\n",
       "      <th>x5</th>\n",
       "      <th>x6</th>\n",
       "      <th>x7</th>\n",
       "      <th>x8</th>\n",
       "      <th>x9</th>\n",
       "      <th>energy</th>\n",
       "      <th>num_occurrences</th>\n",
       "    </tr>\n",
       "  </thead>\n",
       "  <tbody>\n",
       "    <tr>\n",
       "      <th>12296</th>\n",
       "      <td>0</td>\n",
       "      <td>0</td>\n",
       "      <td>0</td>\n",
       "      <td>1</td>\n",
       "      <td>0</td>\n",
       "      <td>1</td>\n",
       "      <td>0</td>\n",
       "      <td>0</td>\n",
       "      <td>1</td>\n",
       "      <td>0</td>\n",
       "      <td>1</td>\n",
       "      <td>0</td>\n",
       "      <td>0</td>\n",
       "      <td>0</td>\n",
       "      <td>0</td>\n",
       "      <td>0</td>\n",
       "      <td>0.0</td>\n",
       "      <td>1</td>\n",
       "    </tr>\n",
       "    <tr>\n",
       "      <th>32798</th>\n",
       "      <td>0</td>\n",
       "      <td>1</td>\n",
       "      <td>0</td>\n",
       "      <td>0</td>\n",
       "      <td>0</td>\n",
       "      <td>0</td>\n",
       "      <td>1</td>\n",
       "      <td>0</td>\n",
       "      <td>0</td>\n",
       "      <td>0</td>\n",
       "      <td>0</td>\n",
       "      <td>0</td>\n",
       "      <td>0</td>\n",
       "      <td>1</td>\n",
       "      <td>1</td>\n",
       "      <td>0</td>\n",
       "      <td>0.0</td>\n",
       "      <td>1</td>\n",
       "    </tr>\n",
       "  </tbody>\n",
       "</table>\n",
       "</div>"
      ],
      "text/plain": [
       "       x0  x1  x10  x11  x12  x13  x14  x15  x2  x3  x4  x5  x6  x7  x8  x9  \\\n",
       "12296   0   0    0    1    0    1    0    0   1   0   1   0   0   0   0   0   \n",
       "32798   0   1    0    0    0    0    1    0   0   0   0   0   0   1   1   0   \n",
       "\n",
       "       energy  num_occurrences  \n",
       "12296     0.0                1  \n",
       "32798     0.0                1  "
      ]
     },
     "execution_count": 38,
     "metadata": {},
     "output_type": "execute_result"
    }
   ],
   "source": [
    "df = sampleset.to_pandas_dataframe()\n",
    "df.to_csv(\"qubo-exact-solver-solution.csv\")\n",
    "best_solutions = get_result_min_energy(df)\n",
    "best_solutions"
   ]
  },
  {
   "cell_type": "code",
   "execution_count": 39,
   "id": "7a94c09c",
   "metadata": {},
   "outputs": [
    {
     "data": {
      "image/png": "[encoded data removed]",
      "text/plain": [
       "<Figure size 640x480 with 1 Axes>"
      ]
     },
     "metadata": {},
     "output_type": "display_data"
    },
    {
     "data": {
      "image/png": "[encoded data removed]",
      "text/plain": [
       "<Figure size 640x480 with 1 Axes>"
      ]
     },
     "metadata": {},
     "output_type": "display_data"
    }
   ],
   "source": [
    "for solution_i in range(len(best_solutions)):\n",
    "    row = best_solutions.iloc[solution_i]\n",
    "    plot_solution(mapping, row, \"Qubo Solution %d Exact Solver\"%(solution_i+1))"
   ]
  },
  {
   "cell_type": "markdown",
   "id": "b029bf78",
   "metadata": {},
   "source": [
    "# Tabu Search"
   ]
  },
  {
   "cell_type": "code",
   "execution_count": 40,
   "id": "bb55eb0f",
   "metadata": {},
   "outputs": [],
   "source": [
    "sampler = TabuSampler()"
   ]
  },
  {
   "cell_type": "code",
   "execution_count": 41,
   "id": "fa710024",
   "metadata": {},
   "outputs": [],
   "source": [
    "sampleset = sampler.sample(qubo, tenure=N, num_restarts=N)"
   ]
  },
  {
   "cell_type": "code",
   "execution_count": 42,
   "id": "174bf7d8",
   "metadata": {},
   "outputs": [
    {
     "data": {
      "text/html": [
       "<div>\n",
       "<style scoped>\n",
       "    .dataframe tbody tr th:only-of-type {\n",
       "        vertical-align: middle;\n",
       "    }\n",
       "\n",
       "    .dataframe tbody tr th {\n",
       "        vertical-align: top;\n",
       "    }\n",
       "\n",
       "    .dataframe thead th {\n",
       "        text-align: right;\n",
       "    }\n",
       "</style>\n",
       "<table border=\"1\" class=\"dataframe\">\n",
       "  <thead>\n",
       "    <tr style=\"text-align: right;\">\n",
       "      <th></th>\n",
       "      <th>x0</th>\n",
       "      <th>x1</th>\n",
       "      <th>x10</th>\n",
       "      <th>x11</th>\n",
       "      <th>x12</th>\n",
       "      <th>x13</th>\n",
       "      <th>x14</th>\n",
       "      <th>x15</th>\n",
       "      <th>x2</th>\n",
       "      <th>x3</th>\n",
       "      <th>x4</th>\n",
       "      <th>x5</th>\n",
       "      <th>x6</th>\n",
       "      <th>x7</th>\n",
       "      <th>x8</th>\n",
       "      <th>x9</th>\n",
       "      <th>energy</th>\n",
       "      <th>num_occurrences</th>\n",
       "      <th>num_restarts</th>\n",
       "    </tr>\n",
       "  </thead>\n",
       "  <tbody>\n",
       "    <tr>\n",
       "      <th>0</th>\n",
       "      <td>0</td>\n",
       "      <td>1</td>\n",
       "      <td>0</td>\n",
       "      <td>0</td>\n",
       "      <td>0</td>\n",
       "      <td>0</td>\n",
       "      <td>1</td>\n",
       "      <td>0</td>\n",
       "      <td>0</td>\n",
       "      <td>0</td>\n",
       "      <td>0</td>\n",
       "      <td>0</td>\n",
       "      <td>0</td>\n",
       "      <td>1</td>\n",
       "      <td>1</td>\n",
       "      <td>0</td>\n",
       "      <td>0.0</td>\n",
       "      <td>1</td>\n",
       "      <td>1</td>\n",
       "    </tr>\n",
       "  </tbody>\n",
       "</table>\n",
       "</div>"
      ],
      "text/plain": [
       "   x0  x1  x10  x11  x12  x13  x14  x15  x2  x3  x4  x5  x6  x7  x8  x9  \\\n",
       "0   0   1    0    0    0    0    1    0   0   0   0   0   0   1   1   0   \n",
       "\n",
       "   energy  num_occurrences  num_restarts  \n",
       "0     0.0                1             1  "
      ]
     },
     "execution_count": 42,
     "metadata": {},
     "output_type": "execute_result"
    }
   ],
   "source": [
    "df = sampleset.to_pandas_dataframe()\n",
    "df.to_csv(\"qubo-tabu-search-solution.csv\")\n",
    "best_solutions = get_result_min_energy(df)\n",
    "best_solutions"
   ]
  },
  {
   "cell_type": "code",
   "execution_count": 43,
   "id": "00a53ae3",
   "metadata": {},
   "outputs": [
    {
     "data": {
      "image/png": "[encoded data removed]",
      "text/plain": [
       "<Figure size 640x480 with 1 Axes>"
      ]
     },
     "metadata": {},
     "output_type": "display_data"
    }
   ],
   "source": [
    "for solution_i in range(len(best_solutions)):\n",
    "    row = best_solutions.iloc[solution_i]\n",
    "    plot_solution(mapping, row, \"Qubo Solution %d Tabu Search\"%(solution_i+1))"
   ]
  }
 ],
 "metadata": {
  "kernelspec": {
   "display_name": ".venv",
   "language": "python",
   "name": "python3"
  },
  "language_info": {
   "codemirror_mode": {
    "name": "ipython",
    "version": 3
   },
   "file_extension": ".py",
   "mimetype": "text/x-python",
   "name": "python",
   "nbconvert_exporter": "python",
   "pygments_lexer": "ipython3",
   "version": "3.12.10"
  }
 },
 "nbformat": 4,
 "nbformat_minor": 5
}
